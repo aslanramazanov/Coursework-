{
 "cells": [
  {
   "cell_type": "code",
   "execution_count": 6,
   "id": "49e83b97",
   "metadata": {},
   "outputs": [],
   "source": [
    "import numpy as np\n",
    "import pandas as pd\n",
    "import seaborn as sns\n",
    "\n",
    "sns.set_style(\"darkgrid\")\n",
    "sns.mpl.rc(\"figure\", figsize=(16, 6))\n",
    "sns.mpl.rc(\"font\", size=14)"
   ]
  },
  {
   "cell_type": "code",
   "execution_count": 7,
   "id": "276e7ded",
   "metadata": {},
   "outputs": [],
   "source": [
    "from statsmodels.datasets.danish_data import load\n",
    "from statsmodels.tsa.api import ARDL\n",
    "from statsmodels.tsa.ardl import ardl_select_order\n",
    "from statsmodels.tsa.api import UECM"
   ]
  },
  {
   "cell_type": "code",
   "execution_count": 8,
   "id": "d7093f4a",
   "metadata": {},
   "outputs": [],
   "source": [
    "xl = pd.ExcelFile('/Users/aslanramazanov/Desktop/Курсовая/data.xlsx')"
   ]
  },
  {
   "cell_type": "code",
   "execution_count": 9,
   "id": "272e4e0b",
   "metadata": {},
   "outputs": [
    {
     "name": "stdout",
     "output_type": "stream",
     "text": [
      "['Brazil', 'Br', 'Russia', 'Ru', 'China', 'Chi', 'India', 'Africa']\n"
     ]
    }
   ],
   "source": [
    "print(xl.sheet_names)"
   ]
  },
  {
   "cell_type": "code",
   "execution_count": 10,
   "id": "85cd20a8",
   "metadata": {},
   "outputs": [],
   "source": [
    "br = xl.parse('Br')\n",
    "ru = xl.parse('Ru')\n",
    "chi = xl.parse('Chi')"
   ]
  },
  {
   "cell_type": "code",
   "execution_count": 11,
   "id": "9913caed",
   "metadata": {},
   "outputs": [],
   "source": [
    "br = br.drop(columns = ['year', 'month'], axis = 1)\n",
    "ru = ru.drop(columns = ['year', 'month'], axis = 1)\n",
    "chi = chi.drop(columns = ['year', 'month'], axis = 1)"
   ]
  },
  {
   "cell_type": "code",
   "execution_count": 12,
   "id": "f9792ed1",
   "metadata": {},
   "outputs": [],
   "source": [
    "br = br.dropna()\n",
    "ru = ru.dropna()\n",
    "chi = chi.dropna()"
   ]
  },
  {
   "cell_type": "code",
   "execution_count": 13,
   "id": "579ed1bc",
   "metadata": {},
   "outputs": [
    {
     "data": {
      "text/html": [
       "<div>\n",
       "<style scoped>\n",
       "    .dataframe tbody tr th:only-of-type {\n",
       "        vertical-align: middle;\n",
       "    }\n",
       "\n",
       "    .dataframe tbody tr th {\n",
       "        vertical-align: top;\n",
       "    }\n",
       "\n",
       "    .dataframe thead th {\n",
       "        text-align: right;\n",
       "    }\n",
       "</style>\n",
       "<table border=\"1\" class=\"dataframe\">\n",
       "  <thead>\n",
       "    <tr style=\"text-align: right;\">\n",
       "      <th></th>\n",
       "      <th>CPI</th>\n",
       "      <th>Interest_rate</th>\n",
       "      <th>Exchange_rate</th>\n",
       "      <th>GPR</th>\n",
       "      <th>Oil_price</th>\n",
       "      <th>US_market</th>\n",
       "      <th>national_market</th>\n",
       "      <th>EPU</th>\n",
       "      <th>VIX</th>\n",
       "    </tr>\n",
       "  </thead>\n",
       "  <tbody>\n",
       "    <tr>\n",
       "      <th>0</th>\n",
       "      <td>5.974593</td>\n",
       "      <td>-1.30</td>\n",
       "      <td>-0.943920</td>\n",
       "      <td>-0.005696</td>\n",
       "      <td>9.205021</td>\n",
       "      <td>-5.090352</td>\n",
       "      <td>-4.146684</td>\n",
       "      <td>-13.339214</td>\n",
       "      <td>0.287356</td>\n",
       "    </tr>\n",
       "    <tr>\n",
       "      <th>1</th>\n",
       "      <td>5.922135</td>\n",
       "      <td>0.68</td>\n",
       "      <td>-0.924888</td>\n",
       "      <td>-0.005118</td>\n",
       "      <td>7.279693</td>\n",
       "      <td>-2.010814</td>\n",
       "      <td>7.804015</td>\n",
       "      <td>32.343269</td>\n",
       "      <td>-7.286124</td>\n",
       "    </tr>\n",
       "    <tr>\n",
       "      <th>2</th>\n",
       "      <td>6.271204</td>\n",
       "      <td>-1.79</td>\n",
       "      <td>-1.782178</td>\n",
       "      <td>0.007824</td>\n",
       "      <td>-10.714286</td>\n",
       "      <td>9.671990</td>\n",
       "      <td>0.894272</td>\n",
       "      <td>22.741806</td>\n",
       "      <td>10.331126</td>\n",
       "    </tr>\n",
       "    <tr>\n",
       "      <th>3</th>\n",
       "      <td>6.440733</td>\n",
       "      <td>1.92</td>\n",
       "      <td>3.629032</td>\n",
       "      <td>-0.009936</td>\n",
       "      <td>-3.600000</td>\n",
       "      <td>-3.079582</td>\n",
       "      <td>-12.509817</td>\n",
       "      <td>93.619461</td>\n",
       "      <td>4.321729</td>\n",
       "    </tr>\n",
       "    <tr>\n",
       "      <th>4</th>\n",
       "      <td>6.609964</td>\n",
       "      <td>0.16</td>\n",
       "      <td>1.389661</td>\n",
       "      <td>0.023034</td>\n",
       "      <td>17.842324</td>\n",
       "      <td>-2.191500</td>\n",
       "      <td>-4.033085</td>\n",
       "      <td>-83.095871</td>\n",
       "      <td>-11.008822</td>\n",
       "    </tr>\n",
       "  </tbody>\n",
       "</table>\n",
       "</div>"
      ],
      "text/plain": [
       "        CPI  Interest_rate  Exchange_rate       GPR  Oil_price  US_market  \\\n",
       "0  5.974593          -1.30      -0.943920 -0.005696   9.205021  -5.090352   \n",
       "1  5.922135           0.68      -0.924888 -0.005118   7.279693  -2.010814   \n",
       "2  6.271204          -1.79      -1.782178  0.007824 -10.714286   9.671990   \n",
       "3  6.440733           1.92       3.629032 -0.009936  -3.600000  -3.079582   \n",
       "4  6.609964           0.16       1.389661  0.023034  17.842324  -2.191500   \n",
       "\n",
       "   national_market        EPU        VIX  \n",
       "0        -4.146684 -13.339214   0.287356  \n",
       "1         7.804015  32.343269  -7.286124  \n",
       "2         0.894272  22.741806  10.331126  \n",
       "3       -12.509817  93.619461   4.321729  \n",
       "4        -4.033085 -83.095871 -11.008822  "
      ]
     },
     "execution_count": 13,
     "metadata": {},
     "output_type": "execute_result"
    }
   ],
   "source": [
    "br.head()"
   ]
  },
  {
   "cell_type": "code",
   "execution_count": 23,
   "id": "869fd6b4",
   "metadata": {
    "scrolled": true
   },
   "outputs": [
    {
     "name": "stderr",
     "output_type": "stream",
     "text": [
      "/Library/Frameworks/Python.framework/Versions/3.8/lib/python3.8/site-packages/statsmodels/tsa/base/tsa_model.py:471: ValueWarning: An unsupported index was provided and will be ignored when e.g. forecasting.\n",
      "  self._init_dates(dates, freq)\n",
      "/Library/Frameworks/Python.framework/Versions/3.8/lib/python3.8/site-packages/statsmodels/tsa/base/tsa_model.py:471: ValueWarning: An unsupported index was provided and will be ignored when e.g. forecasting.\n",
      "  self._init_dates(dates, freq)\n"
     ]
    },
    {
     "name": "stdout",
     "output_type": "stream",
     "text": [
      "The optimal order is: (0, 3, 0, 0, 0, 0)\n"
     ]
    }
   ],
   "source": [
    "sel_res = ardl_select_order(\n",
    "    chi.national_market, 3, chi[[\"CPI\", \"Interest_rate\", \"Exchange_rate\", 'GPR', 'Oil_price', 'US_market','EPU','VIX']], \n",
    "    3, ic=\"aic\", trend=\"c\"\n",
    ")\n",
    "print(f\"The optimal order is: {sel_res.model.ardl_order}\")"
   ]
  },
  {
   "cell_type": "code",
   "execution_count": 15,
   "id": "a81e5bf2",
   "metadata": {},
   "outputs": [
    {
     "data": {
      "text/html": [
       "<table class=\"simpletable\">\n",
       "<caption>ARDL Model Results</caption>\n",
       "<tr>\n",
       "  <th>Dep. Variable:</th>   <td>national_market</td>   <th>  No. Observations:  </th>    <td>254</td>  \n",
       "</tr>\n",
       "<tr>\n",
       "  <th>Model:</th>         <td>ARDL(2, 2, 0, 0, 3)</td> <th>  Log Likelihood     </th> <td>-735.812</td>\n",
       "</tr>\n",
       "<tr>\n",
       "  <th>Method:</th>          <td>Conditional MLE</td>   <th>  S.D. of innovations</th>   <td>4.486</td> \n",
       "</tr>\n",
       "<tr>\n",
       "  <th>Date:</th>           <td>Wed, 27 Apr 2022</td>   <th>  AIC                </th> <td>1497.624</td>\n",
       "</tr>\n",
       "<tr>\n",
       "  <th>Time:</th>               <td>13:43:44</td>       <th>  BIC                </th> <td>1543.506</td>\n",
       "</tr>\n",
       "<tr>\n",
       "  <th>Sample:</th>                 <td>3</td>          <th>  HQIC               </th> <td>1516.086</td>\n",
       "</tr>\n",
       "<tr>\n",
       "  <th></th>                       <td>254</td>         <th>                     </th>     <td> </td>   \n",
       "</tr>\n",
       "</table>\n",
       "<table class=\"simpletable\">\n",
       "<tr>\n",
       "           <td></td>             <th>coef</th>     <th>std err</th>      <th>z</th>      <th>P>|z|</th>  <th>[0.025</th>    <th>0.975]</th>  \n",
       "</tr>\n",
       "<tr>\n",
       "  <th>const</th>              <td>    0.9770</td> <td>    0.312</td> <td>    3.131</td> <td> 0.002</td> <td>    0.362</td> <td>    1.592</td>\n",
       "</tr>\n",
       "<tr>\n",
       "  <th>national_market.L1</th> <td>    0.0238</td> <td>    0.057</td> <td>    0.418</td> <td> 0.676</td> <td>   -0.088</td> <td>    0.136</td>\n",
       "</tr>\n",
       "<tr>\n",
       "  <th>national_market.L2</th> <td>   -0.1681</td> <td>    0.057</td> <td>   -2.925</td> <td> 0.004</td> <td>   -0.281</td> <td>   -0.055</td>\n",
       "</tr>\n",
       "<tr>\n",
       "  <th>Interest_rate.L0</th>   <td>   -0.7593</td> <td>    0.337</td> <td>   -2.251</td> <td> 0.025</td> <td>   -1.424</td> <td>   -0.095</td>\n",
       "</tr>\n",
       "<tr>\n",
       "  <th>Interest_rate.L1</th>   <td>   -0.7812</td> <td>    0.340</td> <td>   -2.299</td> <td> 0.022</td> <td>   -1.450</td> <td>   -0.112</td>\n",
       "</tr>\n",
       "<tr>\n",
       "  <th>Interest_rate.L2</th>   <td>   -0.7450</td> <td>    0.324</td> <td>   -2.302</td> <td> 0.022</td> <td>   -1.382</td> <td>   -0.108</td>\n",
       "</tr>\n",
       "<tr>\n",
       "  <th>Exchange_rate.L0</th>   <td>   -0.5946</td> <td>    0.073</td> <td>   -8.166</td> <td> 0.000</td> <td>   -0.738</td> <td>   -0.451</td>\n",
       "</tr>\n",
       "<tr>\n",
       "  <th>Oil_price.L0</th>       <td>    0.0513</td> <td>    0.034</td> <td>    1.498</td> <td> 0.136</td> <td>   -0.016</td> <td>    0.119</td>\n",
       "</tr>\n",
       "<tr>\n",
       "  <th>US_market.L0</th>       <td>    0.6531</td> <td>    0.079</td> <td>    8.243</td> <td> 0.000</td> <td>    0.497</td> <td>    0.809</td>\n",
       "</tr>\n",
       "<tr>\n",
       "  <th>US_market.L1</th>       <td>   -0.0688</td> <td>    0.087</td> <td>   -0.789</td> <td> 0.431</td> <td>   -0.241</td> <td>    0.103</td>\n",
       "</tr>\n",
       "<tr>\n",
       "  <th>US_market.L2</th>       <td>    0.0943</td> <td>    0.087</td> <td>    1.089</td> <td> 0.277</td> <td>   -0.076</td> <td>    0.265</td>\n",
       "</tr>\n",
       "<tr>\n",
       "  <th>US_market.L3</th>       <td>   -0.1654</td> <td>    0.065</td> <td>   -2.533</td> <td> 0.012</td> <td>   -0.294</td> <td>   -0.037</td>\n",
       "</tr>\n",
       "</table>"
      ],
      "text/plain": [
       "<class 'statsmodels.iolib.summary.Summary'>\n",
       "\"\"\"\n",
       "                               ARDL Model Results                              \n",
       "===============================================================================\n",
       "Dep. Variable:         national_market   No. Observations:                  254\n",
       "Model:             ARDL(2, 2, 0, 0, 3)   Log Likelihood                -735.812\n",
       "Method:                Conditional MLE   S.D. of innovations              4.486\n",
       "Date:                 Wed, 27 Apr 2022   AIC                           1497.624\n",
       "Time:                         13:43:44   BIC                           1543.506\n",
       "Sample:                              3   HQIC                          1516.086\n",
       "                                   254                                         \n",
       "======================================================================================\n",
       "                         coef    std err          z      P>|z|      [0.025      0.975]\n",
       "--------------------------------------------------------------------------------------\n",
       "const                  0.9770      0.312      3.131      0.002       0.362       1.592\n",
       "national_market.L1     0.0238      0.057      0.418      0.676      -0.088       0.136\n",
       "national_market.L2    -0.1681      0.057     -2.925      0.004      -0.281      -0.055\n",
       "Interest_rate.L0      -0.7593      0.337     -2.251      0.025      -1.424      -0.095\n",
       "Interest_rate.L1      -0.7812      0.340     -2.299      0.022      -1.450      -0.112\n",
       "Interest_rate.L2      -0.7450      0.324     -2.302      0.022      -1.382      -0.108\n",
       "Exchange_rate.L0      -0.5946      0.073     -8.166      0.000      -0.738      -0.451\n",
       "Oil_price.L0           0.0513      0.034      1.498      0.136      -0.016       0.119\n",
       "US_market.L0           0.6531      0.079      8.243      0.000       0.497       0.809\n",
       "US_market.L1          -0.0688      0.087     -0.789      0.431      -0.241       0.103\n",
       "US_market.L2           0.0943      0.087      1.089      0.277      -0.076       0.265\n",
       "US_market.L3          -0.1654      0.065     -2.533      0.012      -0.294      -0.037\n",
       "======================================================================================\n",
       "\"\"\""
      ]
     },
     "execution_count": 15,
     "metadata": {},
     "output_type": "execute_result"
    }
   ],
   "source": [
    "res = sel_res.model.fit()\n",
    "res.summary()"
   ]
  },
  {
   "cell_type": "code",
   "execution_count": 62,
   "id": "a48ea345",
   "metadata": {},
   "outputs": [
    {
     "name": "stderr",
     "output_type": "stream",
     "text": [
      "/Library/Frameworks/Python.framework/Versions/3.8/lib/python3.8/site-packages/statsmodels/tsa/base/tsa_model.py:471: ValueWarning: An unsupported index was provided and will be ignored when e.g. forecasting.\n",
      "  self._init_dates(dates, freq)\n",
      "/Library/Frameworks/Python.framework/Versions/3.8/lib/python3.8/site-packages/statsmodels/tsa/base/tsa_model.py:471: ValueWarning: An unsupported index was provided and will be ignored when e.g. forecasting.\n",
      "  self._init_dates(dates, freq)\n"
     ]
    },
    {
     "data": {
      "text/plain": [
       "BoundsTestResult\n",
       "Stat: 19.03505\n",
       "Upper P-value: 0\n",
       "Lower P-value: 0\n",
       "Null: No Cointegration\n",
       "Alternative: Possible Cointegration"
      ]
     },
     "execution_count": 62,
     "metadata": {},
     "output_type": "execute_result"
    }
   ],
   "source": [
    "ecm = UECM(chi.national_market, 1, chi[[\"CPI\", \"Interest_rate\", \"Exchange_rate\", 'GPR', 'Oil_price', 'US_market','EPU','VIX']], 3, trend=\"c\")\n",
    "ecm_fit = ecm.fit()\n",
    "bounds_test = ecm_fit.bounds_test(case=2)\n",
    "bounds_test"
   ]
  },
  {
   "cell_type": "code",
   "execution_count": 46,
   "id": "56bce8a9",
   "metadata": {},
   "outputs": [
    {
     "name": "stderr",
     "output_type": "stream",
     "text": [
      "/Library/Frameworks/Python.framework/Versions/3.8/lib/python3.8/site-packages/statsmodels/tsa/base/tsa_model.py:471: ValueWarning: An unsupported index was provided and will be ignored when e.g. forecasting.\n",
      "  self._init_dates(dates, freq)\n",
      "/Library/Frameworks/Python.framework/Versions/3.8/lib/python3.8/site-packages/statsmodels/tsa/base/tsa_model.py:471: ValueWarning: An unsupported index was provided and will be ignored when e.g. forecasting.\n",
      "  self._init_dates(dates, freq)\n"
     ]
    },
    {
     "data": {
      "text/html": [
       "<table class=\"simpletable\">\n",
       "<caption>UECM Model Results</caption>\n",
       "<tr>\n",
       "  <th>Dep. Variable:</th>        <td>D.national_market</td>        <th>  No. Observations:  </th>    <td>263</td>  \n",
       "</tr>\n",
       "<tr>\n",
       "  <th>Model:</th>         <td>UECM(3, 3, 1, 1, 1, 1, 1, 1, 1)</td> <th>  Log Likelihood     </th> <td>-732.129</td>\n",
       "</tr>\n",
       "<tr>\n",
       "  <th>Method:</th>                <td>Conditional MLE</td>         <th>  S.D. of innovations</th>   <td>7.152</td> \n",
       "</tr>\n",
       "<tr>\n",
       "  <th>Date:</th>                 <td>Sun, 24 Apr 2022</td>         <th>  AIC                </th> <td>1510.259</td>\n",
       "</tr>\n",
       "<tr>\n",
       "  <th>Time:</th>                     <td>20:17:55</td>             <th>  BIC                </th> <td>1592.155</td>\n",
       "</tr>\n",
       "<tr>\n",
       "  <th>Sample:</th>                       <td>3</td>                <th>  HQIC               </th> <td>1543.182</td>\n",
       "</tr>\n",
       "<tr>\n",
       "  <th></th>                             <td>263</td>               <th>                     </th>     <td> </td>   \n",
       "</tr>\n",
       "</table>\n",
       "<table class=\"simpletable\">\n",
       "<tr>\n",
       "            <td></td>              <th>coef</th>     <th>std err</th>      <th>z</th>      <th>P>|z|</th>  <th>[0.025</th>    <th>0.975]</th>  \n",
       "</tr>\n",
       "<tr>\n",
       "  <th>const</th>                <td>   -0.2736</td> <td>    0.294</td> <td>   -0.932</td> <td> 0.352</td> <td>   -0.852</td> <td>    0.305</td>\n",
       "</tr>\n",
       "<tr>\n",
       "  <th>national_market.L1</th>   <td>   -0.9366</td> <td>    0.090</td> <td>  -10.454</td> <td> 0.000</td> <td>   -1.113</td> <td>   -0.760</td>\n",
       "</tr>\n",
       "<tr>\n",
       "  <th>CPI.L1</th>               <td>    0.1200</td> <td>    0.813</td> <td>    0.148</td> <td> 0.883</td> <td>   -1.481</td> <td>    1.721</td>\n",
       "</tr>\n",
       "<tr>\n",
       "  <th>Interest_rate.L1</th>     <td>   -5.4192</td> <td>    3.688</td> <td>   -1.469</td> <td> 0.143</td> <td>  -12.685</td> <td>    1.847</td>\n",
       "</tr>\n",
       "<tr>\n",
       "  <th>Exchange_rate.L1</th>     <td>   -0.9837</td> <td>    0.434</td> <td>   -2.267</td> <td> 0.024</td> <td>   -1.839</td> <td>   -0.129</td>\n",
       "</tr>\n",
       "<tr>\n",
       "  <th>GPR.L1</th>               <td>    0.9523</td> <td>    2.416</td> <td>    0.394</td> <td> 0.694</td> <td>   -3.807</td> <td>    5.712</td>\n",
       "</tr>\n",
       "<tr>\n",
       "  <th>Oil_price.L1</th>         <td>    0.0845</td> <td>    0.043</td> <td>    1.963</td> <td> 0.051</td> <td>   -0.000</td> <td>    0.169</td>\n",
       "</tr>\n",
       "<tr>\n",
       "  <th>US_market.L1</th>         <td>    0.7131</td> <td>    0.131</td> <td>    5.436</td> <td> 0.000</td> <td>    0.455</td> <td>    0.971</td>\n",
       "</tr>\n",
       "<tr>\n",
       "  <th>EPU.L1</th>               <td>   -0.0068</td> <td>    0.006</td> <td>   -1.145</td> <td> 0.253</td> <td>   -0.019</td> <td>    0.005</td>\n",
       "</tr>\n",
       "<tr>\n",
       "  <th>VIX.L1</th>               <td>    0.0049</td> <td>    0.025</td> <td>    0.195</td> <td> 0.845</td> <td>   -0.045</td> <td>    0.055</td>\n",
       "</tr>\n",
       "<tr>\n",
       "  <th>D.national_market.L1</th> <td>    0.0322</td> <td>    0.065</td> <td>    0.494</td> <td> 0.622</td> <td>   -0.096</td> <td>    0.161</td>\n",
       "</tr>\n",
       "<tr>\n",
       "  <th>D.national_market.L2</th> <td>    0.0066</td> <td>    0.046</td> <td>    0.141</td> <td> 0.888</td> <td>   -0.085</td> <td>    0.098</td>\n",
       "</tr>\n",
       "<tr>\n",
       "  <th>D.CPI.L0</th>             <td>   -0.4585</td> <td>    0.459</td> <td>   -0.999</td> <td> 0.319</td> <td>   -1.363</td> <td>    0.446</td>\n",
       "</tr>\n",
       "<tr>\n",
       "  <th>D.CPI.L1</th>             <td>   -0.0470</td> <td>    0.623</td> <td>   -0.075</td> <td> 0.940</td> <td>   -1.275</td> <td>    1.181</td>\n",
       "</tr>\n",
       "<tr>\n",
       "  <th>D.CPI.L2</th>             <td>    0.8667</td> <td>    0.452</td> <td>    1.916</td> <td> 0.057</td> <td>   -0.025</td> <td>    1.758</td>\n",
       "</tr>\n",
       "<tr>\n",
       "  <th>D.Interest_rate.L0</th>   <td>   -5.3760</td> <td>    2.675</td> <td>   -2.010</td> <td> 0.046</td> <td>  -10.645</td> <td>   -0.107</td>\n",
       "</tr>\n",
       "<tr>\n",
       "  <th>D.Exchange_rate.L0</th>   <td>   -0.9196</td> <td>    0.357</td> <td>   -2.573</td> <td> 0.011</td> <td>   -1.624</td> <td>   -0.215</td>\n",
       "</tr>\n",
       "<tr>\n",
       "  <th>D.GPR.L0</th>             <td>    0.8614</td> <td>    1.467</td> <td>    0.587</td> <td> 0.558</td> <td>   -2.028</td> <td>    3.751</td>\n",
       "</tr>\n",
       "<tr>\n",
       "  <th>D.Oil_price.L0</th>       <td>    0.0682</td> <td>    0.031</td> <td>    2.182</td> <td> 0.030</td> <td>    0.007</td> <td>    0.130</td>\n",
       "</tr>\n",
       "<tr>\n",
       "  <th>D.US_market.L0</th>       <td>    0.8199</td> <td>    0.088</td> <td>    9.344</td> <td> 0.000</td> <td>    0.647</td> <td>    0.993</td>\n",
       "</tr>\n",
       "<tr>\n",
       "  <th>D.EPU.L0</th>             <td>   -0.0025</td> <td>    0.004</td> <td>   -0.701</td> <td> 0.484</td> <td>   -0.010</td> <td>    0.005</td>\n",
       "</tr>\n",
       "<tr>\n",
       "  <th>D.VIX.L0</th>             <td>   -0.0054</td> <td>    0.016</td> <td>   -0.331</td> <td> 0.741</td> <td>   -0.037</td> <td>    0.027</td>\n",
       "</tr>\n",
       "</table>"
      ],
      "text/plain": [
       "<class 'statsmodels.iolib.summary.Summary'>\n",
       "\"\"\"\n",
       "                                     UECM Model Results                                    \n",
       "===========================================================================================\n",
       "Dep. Variable:                   D.national_market   No. Observations:                  263\n",
       "Model:             UECM(3, 3, 1, 1, 1, 1, 1, 1, 1)   Log Likelihood                -732.129\n",
       "Method:                            Conditional MLE   S.D. of innovations              7.152\n",
       "Date:                             Sun, 24 Apr 2022   AIC                           1510.259\n",
       "Time:                                     20:17:55   BIC                           1592.155\n",
       "Sample:                                          3   HQIC                          1543.182\n",
       "                                               263                                         \n",
       "========================================================================================\n",
       "                           coef    std err          z      P>|z|      [0.025      0.975]\n",
       "----------------------------------------------------------------------------------------\n",
       "const                   -0.2736      0.294     -0.932      0.352      -0.852       0.305\n",
       "national_market.L1      -0.9366      0.090    -10.454      0.000      -1.113      -0.760\n",
       "CPI.L1                   0.1200      0.813      0.148      0.883      -1.481       1.721\n",
       "Interest_rate.L1        -5.4192      3.688     -1.469      0.143     -12.685       1.847\n",
       "Exchange_rate.L1        -0.9837      0.434     -2.267      0.024      -1.839      -0.129\n",
       "GPR.L1                   0.9523      2.416      0.394      0.694      -3.807       5.712\n",
       "Oil_price.L1             0.0845      0.043      1.963      0.051      -0.000       0.169\n",
       "US_market.L1             0.7131      0.131      5.436      0.000       0.455       0.971\n",
       "EPU.L1                  -0.0068      0.006     -1.145      0.253      -0.019       0.005\n",
       "VIX.L1                   0.0049      0.025      0.195      0.845      -0.045       0.055\n",
       "D.national_market.L1     0.0322      0.065      0.494      0.622      -0.096       0.161\n",
       "D.national_market.L2     0.0066      0.046      0.141      0.888      -0.085       0.098\n",
       "D.CPI.L0                -0.4585      0.459     -0.999      0.319      -1.363       0.446\n",
       "D.CPI.L1                -0.0470      0.623     -0.075      0.940      -1.275       1.181\n",
       "D.CPI.L2                 0.8667      0.452      1.916      0.057      -0.025       1.758\n",
       "D.Interest_rate.L0      -5.3760      2.675     -2.010      0.046     -10.645      -0.107\n",
       "D.Exchange_rate.L0      -0.9196      0.357     -2.573      0.011      -1.624      -0.215\n",
       "D.GPR.L0                 0.8614      1.467      0.587      0.558      -2.028       3.751\n",
       "D.Oil_price.L0           0.0682      0.031      2.182      0.030       0.007       0.130\n",
       "D.US_market.L0           0.8199      0.088      9.344      0.000       0.647       0.993\n",
       "D.EPU.L0                -0.0025      0.004     -0.701      0.484      -0.010       0.005\n",
       "D.VIX.L0                -0.0054      0.016     -0.331      0.741      -0.037       0.027\n",
       "========================================================================================\n",
       "\"\"\""
      ]
     },
     "execution_count": 46,
     "metadata": {},
     "output_type": "execute_result"
    }
   ],
   "source": [
    "res = ARDL(\n",
    "    chi.national_market, 3, chi[[\"CPI\", \"Interest_rate\", \"Exchange_rate\", \n",
    "                               'GPR', 'Oil_price', 'US_market','EPU','VIX']], \n",
    "    {\"CPI\":3, \"Interest_rate\":1, \"Exchange_rate\":1, \n",
    "                               'GPR':1, 'Oil_price':1, 'US_market':1,'EPU':1,'VIX':1}, trend=\"c\"\n",
    ").fit()\n",
    "ecm = UECM.from_ardl(res.model)\n",
    "ecm_res = ecm.fit()\n",
    "ecm_res.summary()"
   ]
  },
  {
   "cell_type": "code",
   "execution_count": 16,
   "id": "16808ffa",
   "metadata": {},
   "outputs": [
    {
     "name": "stdout",
     "output_type": "stream",
     "text": [
      "3      7.262952\n",
      "4      4.388274\n",
      "5     -8.303282\n",
      "6      4.719143\n",
      "7     -0.177931\n",
      "         ...   \n",
      "249   -2.456881\n",
      "250   -2.515145\n",
      "251   -3.509255\n",
      "252   -0.964998\n",
      "253    3.090016\n",
      "Length: 251, dtype: float64\n"
     ]
    }
   ],
   "source": [
    "#residuals estimation \n",
    "qq = sel_res.model.fit()\n",
    "params = qq.params\n",
    "fitted = sel_res.model.predict(params)\n",
    "\n",
    "residuals = fitted - chi.national_market\n",
    "residuals = residuals.dropna()\n",
    "print(residuals)\n"
   ]
  },
  {
   "cell_type": "code",
   "execution_count": 17,
   "id": "d3c69a08",
   "metadata": {},
   "outputs": [],
   "source": [
    "#residuals' acf plot\n",
    "import statsmodels.api as sm"
   ]
  },
  {
   "cell_type": "code",
   "execution_count": 24,
   "id": "7cecd07c",
   "metadata": {},
   "outputs": [
    {
     "data": {
      "image/png": "[encoded data removed]",
      "text/plain": [
       "<Figure size 1152x432 with 1 Axes>"
      ]
     },
     "execution_count": 24,
     "metadata": {},
     "output_type": "execute_result"
    },
    {
     "data": {
      "image/png": "[encoded data removed]",
      "text/plain": [
       "<Figure size 1152x432 with 1 Axes>"
      ]
     },
     "metadata": {},
     "output_type": "display_data"
    }
   ],
   "source": [
    "sm.graphics.tsa.plot_acf(residuals, lags=40, title='China')"
   ]
  },
  {
   "cell_type": "code",
   "execution_count": 19,
   "id": "53327c37",
   "metadata": {},
   "outputs": [],
   "source": [
    "import statsmodels.stats.diagnostic as sd"
   ]
  },
  {
   "cell_type": "code",
   "execution_count": 20,
   "id": "8548abd8",
   "metadata": {},
   "outputs": [
    {
     "ename": "TypeError",
     "evalue": "result must come from a linear regression model",
     "output_type": "error",
     "traceback": [
      "\u001b[0;31m---------------------------------------------------------------------------\u001b[0m",
      "\u001b[0;31mTypeError\u001b[0m                                 Traceback (most recent call last)",
      "Input \u001b[0;32mIn [20]\u001b[0m, in \u001b[0;36m<cell line: 3>\u001b[0;34m()\u001b[0m\n\u001b[1;32m      1\u001b[0m \u001b[38;5;66;03m#RESET test\u001b[39;00m\n\u001b[0;32m----> 3\u001b[0m reset \u001b[38;5;241m=\u001b[39m \u001b[43msd\u001b[49m\u001b[38;5;241;43m.\u001b[39;49m\u001b[43mlinear_reset\u001b[49m\u001b[43m(\u001b[49m\u001b[43msel_res\u001b[49m\u001b[38;5;241;43m.\u001b[39;49m\u001b[43mmodel\u001b[49m\u001b[38;5;241;43m.\u001b[39;49m\u001b[43mfit\u001b[49m\u001b[43m(\u001b[49m\u001b[43m)\u001b[49m\u001b[43m)\u001b[49m\n\u001b[1;32m      4\u001b[0m \u001b[38;5;28mprint\u001b[39m(reset\u001b[38;5;241m.\u001b[39mpvalue)\n",
      "File \u001b[0;32m/Library/Frameworks/Python.framework/Versions/3.8/lib/python3.8/site-packages/pandas/util/_decorators.py:199\u001b[0m, in \u001b[0;36mdeprecate_kwarg.<locals>._deprecate_kwarg.<locals>.wrapper\u001b[0;34m(*args, **kwargs)\u001b[0m\n\u001b[1;32m    197\u001b[0m     \u001b[38;5;28;01melse\u001b[39;00m:\n\u001b[1;32m    198\u001b[0m         kwargs[new_arg_name] \u001b[38;5;241m=\u001b[39m new_arg_value\n\u001b[0;32m--> 199\u001b[0m \u001b[38;5;28;01mreturn\u001b[39;00m \u001b[43mfunc\u001b[49m\u001b[43m(\u001b[49m\u001b[38;5;241;43m*\u001b[39;49m\u001b[43margs\u001b[49m\u001b[43m,\u001b[49m\u001b[43m \u001b[49m\u001b[38;5;241;43m*\u001b[39;49m\u001b[38;5;241;43m*\u001b[39;49m\u001b[43mkwargs\u001b[49m\u001b[43m)\u001b[49m\n",
      "File \u001b[0;32m/Library/Frameworks/Python.framework/Versions/3.8/lib/python3.8/site-packages/statsmodels/stats/diagnostic.py:1058\u001b[0m, in \u001b[0;36mlinear_reset\u001b[0;34m(res, power, test_type, use_f, cov_type, cov_kwargs)\u001b[0m\n\u001b[1;32m    998\u001b[0m \u001b[38;5;124mr\u001b[39m\u001b[38;5;124;03m\"\"\"\u001b[39;00m\n\u001b[1;32m    999\u001b[0m \u001b[38;5;124;03mRamsey's RESET test for neglected nonlinearity\u001b[39;00m\n\u001b[1;32m   1000\u001b[0m \n\u001b[0;32m   (...)\u001b[0m\n\u001b[1;32m   1055\u001b[0m \u001b[38;5;124;03mthe critical value.\u001b[39;00m\n\u001b[1;32m   1056\u001b[0m \u001b[38;5;124;03m\"\"\"\u001b[39;00m\n\u001b[1;32m   1057\u001b[0m \u001b[38;5;28;01mif\u001b[39;00m \u001b[38;5;129;01mnot\u001b[39;00m \u001b[38;5;28misinstance\u001b[39m(res, RegressionResultsWrapper):\n\u001b[0;32m-> 1058\u001b[0m     \u001b[38;5;28;01mraise\u001b[39;00m \u001b[38;5;167;01mTypeError\u001b[39;00m(\u001b[38;5;124m\"\u001b[39m\u001b[38;5;124mresult must come from a linear regression model\u001b[39m\u001b[38;5;124m\"\u001b[39m)\n\u001b[1;32m   1059\u001b[0m \u001b[38;5;28;01mif\u001b[39;00m \u001b[38;5;28mbool\u001b[39m(res\u001b[38;5;241m.\u001b[39mmodel\u001b[38;5;241m.\u001b[39mk_constant) \u001b[38;5;129;01mand\u001b[39;00m res\u001b[38;5;241m.\u001b[39mmodel\u001b[38;5;241m.\u001b[39mexog\u001b[38;5;241m.\u001b[39mshape[\u001b[38;5;241m1\u001b[39m] \u001b[38;5;241m==\u001b[39m \u001b[38;5;241m1\u001b[39m:\n\u001b[1;32m   1060\u001b[0m     \u001b[38;5;28;01mraise\u001b[39;00m \u001b[38;5;167;01mValueError\u001b[39;00m(\u001b[38;5;124m\"\u001b[39m\u001b[38;5;124mexog contains only a constant column. The RESET \u001b[39m\u001b[38;5;124m\"\u001b[39m\n\u001b[1;32m   1061\u001b[0m                      \u001b[38;5;124m\"\u001b[39m\u001b[38;5;124mtest requires exog to have at least 1 \u001b[39m\u001b[38;5;124m\"\u001b[39m\n\u001b[1;32m   1062\u001b[0m                      \u001b[38;5;124m\"\u001b[39m\u001b[38;5;124mnon-constant column.\u001b[39m\u001b[38;5;124m\"\u001b[39m)\n",
      "\u001b[0;31mTypeError\u001b[0m: result must come from a linear regression model"
     ]
    }
   ],
   "source": [
    "#RESET test\n",
    "\n",
    "reset = sd.linear_reset(sel_res.model.fit())\n",
    "print(reset.pvalue)"
   ]
  },
  {
   "cell_type": "code",
   "execution_count": 22,
   "id": "b0c20067",
   "metadata": {},
   "outputs": [
    {
     "ename": "TypeError",
     "evalue": "list indices must be integers or slices, not tuple",
     "output_type": "error",
     "traceback": [
      "\u001b[0;31m---------------------------------------------------------------------------\u001b[0m",
      "\u001b[0;31mTypeError\u001b[0m                                 Traceback (most recent call last)",
      "Input \u001b[0;32mIn [22]\u001b[0m, in \u001b[0;36m<cell line: 6>\u001b[0;34m()\u001b[0m\n\u001b[1;32m      1\u001b[0m \u001b[38;5;66;03m#Lagrange multiplier test\u001b[39;00m\n\u001b[1;32m      3\u001b[0m predictors \u001b[38;5;241m=\u001b[39m [\u001b[38;5;124m\"\u001b[39m\u001b[38;5;124mCPI\u001b[39m\u001b[38;5;124m\"\u001b[39m, \u001b[38;5;124m\"\u001b[39m\u001b[38;5;124mInterest_rate\u001b[39m\u001b[38;5;124m\"\u001b[39m, \u001b[38;5;124m\"\u001b[39m\u001b[38;5;124mExchange_rate\u001b[39m\u001b[38;5;124m\"\u001b[39m, \n\u001b[1;32m      4\u001b[0m                                \u001b[38;5;124m'\u001b[39m\u001b[38;5;124mGPR\u001b[39m\u001b[38;5;124m'\u001b[39m, \u001b[38;5;124m'\u001b[39m\u001b[38;5;124mOil_price\u001b[39m\u001b[38;5;124m'\u001b[39m, \u001b[38;5;124m'\u001b[39m\u001b[38;5;124mUS_market\u001b[39m\u001b[38;5;124m'\u001b[39m,\u001b[38;5;124m'\u001b[39m\u001b[38;5;124mEPU\u001b[39m\u001b[38;5;124m'\u001b[39m,\u001b[38;5;124m'\u001b[39m\u001b[38;5;124mVIX\u001b[39m\u001b[38;5;124m'\u001b[39m,\u001b[38;5;124m'\u001b[39m\u001b[38;5;124mdisequilibrium\u001b[39m\u001b[38;5;124m'\u001b[39m]\n\u001b[0;32m----> 6\u001b[0m lagrange \u001b[38;5;241m=\u001b[39m \u001b[43msd\u001b[49m\u001b[38;5;241;43m.\u001b[39;49m\u001b[43mlinear_lm\u001b[49m\u001b[43m(\u001b[49m\u001b[43mresiduals\u001b[49m\u001b[43m,\u001b[49m\u001b[43mpredictors\u001b[49m\u001b[43m \u001b[49m\u001b[43m)\u001b[49m\n",
      "File \u001b[0;32m/Library/Frameworks/Python.framework/Versions/3.8/lib/python3.8/site-packages/statsmodels/stats/diagnostic.py:1303\u001b[0m, in \u001b[0;36mlinear_lm\u001b[0;34m(resid, exog, func)\u001b[0m\n\u001b[1;32m   1300\u001b[0m     \u001b[38;5;28;01mdef\u001b[39;00m \u001b[38;5;21mfunc\u001b[39m(x):\n\u001b[1;32m   1301\u001b[0m         \u001b[38;5;28;01mreturn\u001b[39;00m np\u001b[38;5;241m.\u001b[39mpower(x, \u001b[38;5;241m2\u001b[39m)\n\u001b[0;32m-> 1303\u001b[0m exog_aux \u001b[38;5;241m=\u001b[39m np\u001b[38;5;241m.\u001b[39mcolumn_stack((exog, func(\u001b[43mexog\u001b[49m\u001b[43m[\u001b[49m\u001b[43m:\u001b[49m\u001b[43m,\u001b[49m\u001b[43m \u001b[49m\u001b[38;5;241;43m1\u001b[39;49m\u001b[43m:\u001b[49m\u001b[43m]\u001b[49m)))\n\u001b[1;32m   1305\u001b[0m nobs, k_vars \u001b[38;5;241m=\u001b[39m exog\u001b[38;5;241m.\u001b[39mshape\n\u001b[1;32m   1306\u001b[0m ls \u001b[38;5;241m=\u001b[39m OLS(resid, exog_aux)\u001b[38;5;241m.\u001b[39mfit()\n",
      "\u001b[0;31mTypeError\u001b[0m: list indices must be integers or slices, not tuple"
     ]
    }
   ],
   "source": [
    "#Lagrange multiplier test\n",
    "\n",
    "predictors = [\"CPI\", \"Interest_rate\", \"Exchange_rate\", \n",
    "                               'GPR', 'Oil_price', 'US_market','EPU','VIX','disequilibrium']\n",
    "\n",
    "lagrange = sd.linear_lm(residuals,predictors ) #change country for residuals\n",
    "\n"
   ]
  },
  {
   "cell_type": "code",
   "execution_count": 41,
   "id": "18b05827",
   "metadata": {},
   "outputs": [],
   "source": [
    "#ecm estimation\n",
    "ru['disequilibrium'] = residuals\n",
    "ru.disequilibrium = ru.disequilibrium.shift(1)"
   ]
  },
  {
   "cell_type": "code",
   "execution_count": null,
   "id": "e0896f7c",
   "metadata": {},
   "outputs": [],
   "source": [
    "ru_copy = ru\n",
    "for i in [\"CPI\", \"Interest_rate\", \"Exchange_rate\", \n",
    "                               'GPR', 'Oil_price', 'US_market','EPU','VIX']:\n",
    "    ru_copy[i] = ru_copy[i].diff()\n",
    "ru_copy = ru_copy.dropna()\n",
    "predictors = [\"CPI\", \"Interest_rate\", \"Exchange_rate\", \n",
    "                               'GPR', 'Oil_price', 'US_market','EPU','VIX','disequilibrium']\n",
    "ec_model = sm.OLS(ru_copy.national_market, ru_copy[predictors])\n",
    "ec_model_fit = ec_model.fit()\n",
    "print(ec_model_fit.summary())"
   ]
  },
  {
   "cell_type": "code",
   "execution_count": 31,
   "id": "afeb2a77",
   "metadata": {},
   "outputs": [
    {
     "ename": "KeyboardInterrupt",
     "evalue": "",
     "output_type": "error",
     "traceback": [
      "\u001b[0;31m---------------------------------------------------------------------------\u001b[0m",
      "\u001b[0;31mKeyboardInterrupt\u001b[0m                         Traceback (most recent call last)",
      "Input \u001b[0;32mIn [31]\u001b[0m, in \u001b[0;36m<cell line: 20>\u001b[0;34m()\u001b[0m\n\u001b[1;32m     17\u001b[0m     df\u001b[38;5;241m.\u001b[39mindex \u001b[38;5;241m=\u001b[39m [var \u001b[38;5;241m+\u001b[39m \u001b[38;5;124m'\u001b[39m\u001b[38;5;124m_y\u001b[39m\u001b[38;5;124m'\u001b[39m \u001b[38;5;28;01mfor\u001b[39;00m var \u001b[38;5;129;01min\u001b[39;00m variables]\n\u001b[1;32m     18\u001b[0m     \u001b[38;5;28;01mreturn\u001b[39;00m df\n\u001b[0;32m---> 20\u001b[0m \u001b[43mgrangers_causation_matrix\u001b[49m\u001b[43m(\u001b[49m\u001b[43mchi\u001b[49m\u001b[43m,\u001b[49m\u001b[43m \u001b[49m\u001b[43mvariables\u001b[49m\u001b[43m \u001b[49m\u001b[38;5;241;43m=\u001b[39;49m\u001b[43m \u001b[49m\u001b[43mchi\u001b[49m\u001b[38;5;241;43m.\u001b[39;49m\u001b[43mcolumns\u001b[49m\u001b[43m)\u001b[49m\n",
      "Input \u001b[0;32mIn [31]\u001b[0m, in \u001b[0;36mgrangers_causation_matrix\u001b[0;34m(data, variables, test, verbose)\u001b[0m\n\u001b[1;32m      9\u001b[0m \u001b[38;5;28;01mfor\u001b[39;00m c \u001b[38;5;129;01min\u001b[39;00m df\u001b[38;5;241m.\u001b[39mcolumns:\n\u001b[1;32m     10\u001b[0m     \u001b[38;5;28;01mfor\u001b[39;00m r \u001b[38;5;129;01min\u001b[39;00m df\u001b[38;5;241m.\u001b[39mindex:\n\u001b[0;32m---> 11\u001b[0m         test_result \u001b[38;5;241m=\u001b[39m \u001b[43mgrangercausalitytests\u001b[49m\u001b[43m(\u001b[49m\u001b[43mdata\u001b[49m\u001b[43m[\u001b[49m\u001b[43m[\u001b[49m\u001b[43mr\u001b[49m\u001b[43m,\u001b[49m\u001b[43m \u001b[49m\u001b[43mc\u001b[49m\u001b[43m]\u001b[49m\u001b[43m]\u001b[49m\u001b[43m,\u001b[49m\u001b[43m \u001b[49m\u001b[43mmaxlag\u001b[49m\u001b[38;5;241;43m=\u001b[39;49m\u001b[43mmaxlag\u001b[49m\u001b[43m,\u001b[49m\u001b[43m \u001b[49m\u001b[43mverbose\u001b[49m\u001b[38;5;241;43m=\u001b[39;49m\u001b[38;5;28;43;01mFalse\u001b[39;49;00m\u001b[43m)\u001b[49m\n\u001b[1;32m     12\u001b[0m         p_values \u001b[38;5;241m=\u001b[39m [\u001b[38;5;28mround\u001b[39m(test_result[i\u001b[38;5;241m+\u001b[39m\u001b[38;5;241m1\u001b[39m][\u001b[38;5;241m0\u001b[39m][test][\u001b[38;5;241m1\u001b[39m],\u001b[38;5;241m4\u001b[39m) \u001b[38;5;28;01mfor\u001b[39;00m i \u001b[38;5;129;01min\u001b[39;00m \u001b[38;5;28mrange\u001b[39m(maxlag)]\n\u001b[1;32m     13\u001b[0m         \u001b[38;5;28;01mif\u001b[39;00m verbose: \u001b[38;5;28mprint\u001b[39m(\u001b[38;5;124mf\u001b[39m\u001b[38;5;124m'\u001b[39m\u001b[38;5;124mY = \u001b[39m\u001b[38;5;132;01m{\u001b[39;00mr\u001b[38;5;132;01m}\u001b[39;00m\u001b[38;5;124m, X = \u001b[39m\u001b[38;5;132;01m{\u001b[39;00mc\u001b[38;5;132;01m}\u001b[39;00m\u001b[38;5;124m, P Values = \u001b[39m\u001b[38;5;132;01m{\u001b[39;00mp_values\u001b[38;5;132;01m}\u001b[39;00m\u001b[38;5;124m'\u001b[39m)\n",
      "File \u001b[0;32m/Library/Frameworks/Python.framework/Versions/3.8/lib/python3.8/site-packages/statsmodels/tsa/stattools.py:1582\u001b[0m, in \u001b[0;36mgrangercausalitytests\u001b[0;34m(x, maxlag, addconst, verbose)\u001b[0m\n\u001b[1;32m   1578\u001b[0m \u001b[38;5;66;03m# F test that all lag coefficients of exog are zero\u001b[39;00m\n\u001b[1;32m   1579\u001b[0m rconstr \u001b[38;5;241m=\u001b[39m np\u001b[38;5;241m.\u001b[39mcolumn_stack(\n\u001b[1;32m   1580\u001b[0m     (np\u001b[38;5;241m.\u001b[39mzeros((mxlg, mxlg)), np\u001b[38;5;241m.\u001b[39meye(mxlg, mxlg), np\u001b[38;5;241m.\u001b[39mzeros((mxlg, \u001b[38;5;241m1\u001b[39m)))\n\u001b[1;32m   1581\u001b[0m )\n\u001b[0;32m-> 1582\u001b[0m ftres \u001b[38;5;241m=\u001b[39m \u001b[43mres2djoint\u001b[49m\u001b[38;5;241;43m.\u001b[39;49m\u001b[43mf_test\u001b[49m\u001b[43m(\u001b[49m\u001b[43mrconstr\u001b[49m\u001b[43m)\u001b[49m\n\u001b[1;32m   1583\u001b[0m \u001b[38;5;28;01mif\u001b[39;00m verbose:\n\u001b[1;32m   1584\u001b[0m     \u001b[38;5;28mprint\u001b[39m(\n\u001b[1;32m   1585\u001b[0m         \u001b[38;5;124m\"\u001b[39m\u001b[38;5;124mparameter F test:         F=\u001b[39m\u001b[38;5;132;01m%-8.4f\u001b[39;00m\u001b[38;5;124m, p=\u001b[39m\u001b[38;5;132;01m%-8.4f\u001b[39;00m\u001b[38;5;124m, df_denom=\u001b[39m\u001b[38;5;132;01m%d\u001b[39;00m\u001b[38;5;124m,\u001b[39m\u001b[38;5;124m\"\u001b[39m\n\u001b[1;32m   1586\u001b[0m         \u001b[38;5;124m\"\u001b[39m\u001b[38;5;124m df_num=\u001b[39m\u001b[38;5;132;01m%d\u001b[39;00m\u001b[38;5;124m\"\u001b[39m\n\u001b[1;32m   1587\u001b[0m         \u001b[38;5;241m%\u001b[39m (ftres\u001b[38;5;241m.\u001b[39mfvalue, ftres\u001b[38;5;241m.\u001b[39mpvalue, ftres\u001b[38;5;241m.\u001b[39mdf_denom, ftres\u001b[38;5;241m.\u001b[39mdf_num)\n\u001b[1;32m   1588\u001b[0m     )\n",
      "File \u001b[0;32m/Library/Frameworks/Python.framework/Versions/3.8/lib/python3.8/site-packages/statsmodels/base/model.py:1765\u001b[0m, in \u001b[0;36mLikelihoodModelResults.f_test\u001b[0;34m(self, r_matrix, cov_p, invcov)\u001b[0m\n\u001b[1;32m   1672\u001b[0m \u001b[38;5;28;01mdef\u001b[39;00m \u001b[38;5;21mf_test\u001b[39m(\u001b[38;5;28mself\u001b[39m, r_matrix, cov_p\u001b[38;5;241m=\u001b[39m\u001b[38;5;28;01mNone\u001b[39;00m, invcov\u001b[38;5;241m=\u001b[39m\u001b[38;5;28;01mNone\u001b[39;00m):\n\u001b[1;32m   1673\u001b[0m     \u001b[38;5;124;03m\"\"\"\u001b[39;00m\n\u001b[1;32m   1674\u001b[0m \u001b[38;5;124;03m    Compute the F-test for a joint linear hypothesis.\u001b[39;00m\n\u001b[1;32m   1675\u001b[0m \n\u001b[0;32m   (...)\u001b[0m\n\u001b[1;32m   1763\u001b[0m \u001b[38;5;124;03m    <F test: F=array([[ 144.17976065]]), p=6.322026217355609e-08, df_denom=9, df_num=3>\u001b[39;00m\n\u001b[1;32m   1764\u001b[0m \u001b[38;5;124;03m    \"\"\"\u001b[39;00m\n\u001b[0;32m-> 1765\u001b[0m     res \u001b[38;5;241m=\u001b[39m \u001b[38;5;28;43mself\u001b[39;49m\u001b[38;5;241;43m.\u001b[39;49m\u001b[43mwald_test\u001b[49m\u001b[43m(\u001b[49m\u001b[43mr_matrix\u001b[49m\u001b[43m,\u001b[49m\u001b[43m \u001b[49m\u001b[43mcov_p\u001b[49m\u001b[38;5;241;43m=\u001b[39;49m\u001b[43mcov_p\u001b[49m\u001b[43m,\u001b[49m\u001b[43m \u001b[49m\u001b[43minvcov\u001b[49m\u001b[38;5;241;43m=\u001b[39;49m\u001b[43minvcov\u001b[49m\u001b[43m,\u001b[49m\u001b[43m \u001b[49m\u001b[43muse_f\u001b[49m\u001b[38;5;241;43m=\u001b[39;49m\u001b[38;5;28;43;01mTrue\u001b[39;49;00m\u001b[43m,\u001b[49m\u001b[43m \u001b[49m\u001b[43mscalar\u001b[49m\u001b[38;5;241;43m=\u001b[39;49m\u001b[38;5;28;43;01mTrue\u001b[39;49;00m\u001b[43m)\u001b[49m\n\u001b[1;32m   1766\u001b[0m     \u001b[38;5;28;01mreturn\u001b[39;00m res\n",
      "File \u001b[0;32m/Library/Frameworks/Python.framework/Versions/3.8/lib/python3.8/site-packages/statsmodels/base/model.py:1868\u001b[0m, in \u001b[0;36mLikelihoodModelResults.wald_test\u001b[0;34m(self, r_matrix, cov_p, invcov, use_f, df_constraints, scalar)\u001b[0m\n\u001b[1;32m   1864\u001b[0m \u001b[38;5;28;01mif\u001b[39;00m np\u001b[38;5;241m.\u001b[39misnan(cov_p)\u001b[38;5;241m.\u001b[39mmax():\n\u001b[1;32m   1865\u001b[0m     \u001b[38;5;28;01mraise\u001b[39;00m \u001b[38;5;167;01mValueError\u001b[39;00m(\u001b[38;5;124m\"\u001b[39m\u001b[38;5;124mr_matrix performs f_test for using \u001b[39m\u001b[38;5;124m\"\u001b[39m\n\u001b[1;32m   1866\u001b[0m                      \u001b[38;5;124m\"\u001b[39m\u001b[38;5;124mdimensions that are asymptotically \u001b[39m\u001b[38;5;124m\"\u001b[39m\n\u001b[1;32m   1867\u001b[0m                      \u001b[38;5;124m\"\u001b[39m\u001b[38;5;124mnon-normal\u001b[39m\u001b[38;5;124m\"\u001b[39m)\n\u001b[0;32m-> 1868\u001b[0m invcov \u001b[38;5;241m=\u001b[39m \u001b[43mnp\u001b[49m\u001b[38;5;241;43m.\u001b[39;49m\u001b[43mlinalg\u001b[49m\u001b[38;5;241;43m.\u001b[39;49m\u001b[43mpinv\u001b[49m\u001b[43m(\u001b[49m\u001b[43mcov_p\u001b[49m\u001b[43m)\u001b[49m\n\u001b[1;32m   1869\u001b[0m J_ \u001b[38;5;241m=\u001b[39m np\u001b[38;5;241m.\u001b[39mlinalg\u001b[38;5;241m.\u001b[39mmatrix_rank(cov_p)\n\u001b[1;32m   1870\u001b[0m \u001b[38;5;28;01mif\u001b[39;00m J_ \u001b[38;5;241m<\u001b[39m J:\n",
      "File \u001b[0;32m<__array_function__ internals>:5\u001b[0m, in \u001b[0;36mpinv\u001b[0;34m(*args, **kwargs)\u001b[0m\n",
      "File \u001b[0;32m/Library/Frameworks/Python.framework/Versions/3.8/lib/python3.8/site-packages/numpy/linalg/linalg.py:2002\u001b[0m, in \u001b[0;36mpinv\u001b[0;34m(a, rcond, hermitian)\u001b[0m\n\u001b[1;32m   2000\u001b[0m     \u001b[38;5;28;01mreturn\u001b[39;00m wrap(res)\n\u001b[1;32m   2001\u001b[0m a \u001b[38;5;241m=\u001b[39m a\u001b[38;5;241m.\u001b[39mconjugate()\n\u001b[0;32m-> 2002\u001b[0m u, s, vt \u001b[38;5;241m=\u001b[39m \u001b[43msvd\u001b[49m\u001b[43m(\u001b[49m\u001b[43ma\u001b[49m\u001b[43m,\u001b[49m\u001b[43m \u001b[49m\u001b[43mfull_matrices\u001b[49m\u001b[38;5;241;43m=\u001b[39;49m\u001b[38;5;28;43;01mFalse\u001b[39;49;00m\u001b[43m,\u001b[49m\u001b[43m \u001b[49m\u001b[43mhermitian\u001b[49m\u001b[38;5;241;43m=\u001b[39;49m\u001b[43mhermitian\u001b[49m\u001b[43m)\u001b[49m\n\u001b[1;32m   2004\u001b[0m \u001b[38;5;66;03m# discard small singular values\u001b[39;00m\n\u001b[1;32m   2005\u001b[0m cutoff \u001b[38;5;241m=\u001b[39m rcond[\u001b[38;5;241m.\u001b[39m\u001b[38;5;241m.\u001b[39m\u001b[38;5;241m.\u001b[39m, newaxis] \u001b[38;5;241m*\u001b[39m amax(s, axis\u001b[38;5;241m=\u001b[39m\u001b[38;5;241m-\u001b[39m\u001b[38;5;241m1\u001b[39m, keepdims\u001b[38;5;241m=\u001b[39m\u001b[38;5;28;01mTrue\u001b[39;00m)\n",
      "File \u001b[0;32m<__array_function__ internals>:5\u001b[0m, in \u001b[0;36msvd\u001b[0;34m(*args, **kwargs)\u001b[0m\n",
      "File \u001b[0;32m/Library/Frameworks/Python.framework/Versions/3.8/lib/python3.8/site-packages/numpy/linalg/linalg.py:1660\u001b[0m, in \u001b[0;36msvd\u001b[0;34m(a, full_matrices, compute_uv, hermitian)\u001b[0m\n\u001b[1;32m   1657\u001b[0m         gufunc \u001b[38;5;241m=\u001b[39m _umath_linalg\u001b[38;5;241m.\u001b[39msvd_n_s\n\u001b[1;32m   1659\u001b[0m signature \u001b[38;5;241m=\u001b[39m \u001b[38;5;124m'\u001b[39m\u001b[38;5;124mD->DdD\u001b[39m\u001b[38;5;124m'\u001b[39m \u001b[38;5;28;01mif\u001b[39;00m isComplexType(t) \u001b[38;5;28;01melse\u001b[39;00m \u001b[38;5;124m'\u001b[39m\u001b[38;5;124md->ddd\u001b[39m\u001b[38;5;124m'\u001b[39m\n\u001b[0;32m-> 1660\u001b[0m u, s, vh \u001b[38;5;241m=\u001b[39m \u001b[43mgufunc\u001b[49m\u001b[43m(\u001b[49m\u001b[43ma\u001b[49m\u001b[43m,\u001b[49m\u001b[43m \u001b[49m\u001b[43msignature\u001b[49m\u001b[38;5;241;43m=\u001b[39;49m\u001b[43msignature\u001b[49m\u001b[43m,\u001b[49m\u001b[43m \u001b[49m\u001b[43mextobj\u001b[49m\u001b[38;5;241;43m=\u001b[39;49m\u001b[43mextobj\u001b[49m\u001b[43m)\u001b[49m\n\u001b[1;32m   1661\u001b[0m u \u001b[38;5;241m=\u001b[39m u\u001b[38;5;241m.\u001b[39mastype(result_t, copy\u001b[38;5;241m=\u001b[39m\u001b[38;5;28;01mFalse\u001b[39;00m)\n\u001b[1;32m   1662\u001b[0m s \u001b[38;5;241m=\u001b[39m s\u001b[38;5;241m.\u001b[39mastype(_realType(result_t), copy\u001b[38;5;241m=\u001b[39m\u001b[38;5;28;01mFalse\u001b[39;00m)\n",
      "\u001b[0;31mKeyboardInterrupt\u001b[0m: "
     ]
    }
   ],
   "source": [
    "#Granger's causality test\n",
    "\n",
    "from statsmodels.tsa.stattools import grangercausalitytests\n",
    "maxlag=12\n",
    "test = 'ssr_chi2test'\n",
    "\n",
    "def grangers_causation_matrix(data, variables, test='ssr_chi2test', verbose=False):  \n",
    "    df = pd.DataFrame(np.zeros((len(variables), len(variables))), columns=variables, index=variables)\n",
    "    for c in df.columns:\n",
    "        for r in df.index:\n",
    "            test_result = grangercausalitytests(data[[r, c]], maxlag=maxlag, verbose=False)\n",
    "            p_values = [round(test_result[i+1][0][test][1],4) for i in range(maxlag)]\n",
    "            if verbose: print(f'Y = {r}, X = {c}, P Values = {p_values}')\n",
    "            min_p_value = np.min(p_values)\n",
    "            df.loc[r, c] = min_p_value\n",
    "    df.columns = [var + '_x' for var in variables]\n",
    "    df.index = [var + '_y' for var in variables]\n",
    "    return df\n",
    "\n",
    "grangers_causation_matrix(chi, variables = chi.columns)  "
   ]
  },
  {
   "cell_type": "code",
   "execution_count": 69,
   "id": "df4edf1c",
   "metadata": {},
   "outputs": [
    {
     "name": "stdout",
     "output_type": "stream",
     "text": [
      "Name   ::  Test Stat > C(95%)    =>   Signif  \n",
      " ----------------------------------------\n",
      "CPI    ::  537.3     > 179.5199  =>   True\n",
      "Interest_rate ::  429.13    > 143.6691  =>   True\n",
      "Exchange_rate ::  327.07    > 111.7797  =>   True\n",
      "GPR    ::  233.27    > 83.9383   =>   True\n",
      "Oil_price ::  170.54    > 60.0627   =>   True\n",
      "US_market ::  109.14    > 40.1749   =>   True\n",
      "national_market ::  67.82     > 24.2761   =>   True\n",
      "EPU    ::  32.96     > 12.3212   =>   True\n",
      "VIX    ::  12.56     > 4.1296    =>   True\n"
     ]
    }
   ],
   "source": [
    "#Johansen's test\n",
    "from statsmodels.tsa.vector_ar.vecm import coint_johansen\n",
    "\n",
    "def cointegration_test(df, alpha=0.05): \n",
    "    \"\"\"Perform Johanson's Cointegration Test and Report Summary\"\"\"\n",
    "    out = coint_johansen(df,-1,5)\n",
    "    d = {'0.90':0, '0.95':1, '0.99':2}\n",
    "    traces = out.lr1\n",
    "    cvts = out.cvt[:, d[str(1-alpha)]]\n",
    "    def adjust(val, length= 6): return str(val).ljust(length)\n",
    "\n",
    "    # Summary\n",
    "    print('Name   ::  Test Stat > C(95%)    =>   Signif  \\n', '--'*20)\n",
    "    for col, trace, cvt in zip(df.columns, traces, cvts):\n",
    "        print(adjust(col), ':: ', adjust(round(trace,2), 9), \">\", adjust(cvt, 8), ' =>  ' , trace > cvt)\n",
    "\n",
    "cointegration_test(chi)"
   ]
  },
  {
   "cell_type": "code",
   "execution_count": null,
   "id": "c5a08c8e",
   "metadata": {},
   "outputs": [],
   "source": []
  }
 ],
 "metadata": {
  "kernelspec": {
   "display_name": "Python 3 (ipykernel)",
   "language": "python",
   "name": "python3"
  },
  "language_info": {
   "codemirror_mode": {
    "name": "ipython",
    "version": 3
   },
   "file_extension": ".py",
   "mimetype": "text/x-python",
   "name": "python",
   "nbconvert_exporter": "python",
   "pygments_lexer": "ipython3",
   "version": "3.8.5"
  }
 },
 "nbformat": 4,
 "nbformat_minor": 5
}
